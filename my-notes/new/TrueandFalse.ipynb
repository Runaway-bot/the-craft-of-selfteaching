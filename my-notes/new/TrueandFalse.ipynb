{
 "cells": [
  {
   "cell_type": "code",
   "execution_count": 2,
   "id": "8b2ee99e-1d72-448d-b6f2-aa5f7df040d0",
   "metadata": {},
   "outputs": [
    {
     "name": "stdout",
     "output_type": "stream",
     "text": [
      "True and False) yields: False\n"
     ]
    }
   ],
   "source": [
    "print('True and False) yields:', True and False)"
   ]
  },
  {
   "cell_type": "code",
   "execution_count": 4,
   "id": "98464ce4-86cd-4a66-a3cd-55fad21ddcd3",
   "metadata": {},
   "outputs": [
    {
     "name": "stdout",
     "output_type": "stream",
     "text": [
      "(True and True) yields: True\n"
     ]
    }
   ],
   "source": [
    "print('(True and True) yields:', True and True)"
   ]
  },
  {
   "cell_type": "code",
   "execution_count": 5,
   "id": "207f5419-7e34-4e68-8e6d-4cac0b8af224",
   "metadata": {},
   "outputs": [
    {
     "name": "stdout",
     "output_type": "stream",
     "text": [
      "(False and True) yields: False\n"
     ]
    }
   ],
   "source": [
    "print('(False and True) yields:', False and True)"
   ]
  },
  {
   "cell_type": "code",
   "execution_count": 6,
   "id": "31640f48-5c7e-4125-9c00-7e17c722d855",
   "metadata": {},
   "outputs": [
    {
     "name": "stdout",
     "output_type": "stream",
     "text": [
      "(True or False) yields: True\n"
     ]
    }
   ],
   "source": [
    "print('(True or False) yields:', True or False)"
   ]
  },
  {
   "cell_type": "code",
   "execution_count": 7,
   "id": "bc79d015-ea98-41c7-be8a-f65c17998d21",
   "metadata": {},
   "outputs": [
    {
     "name": "stdout",
     "output_type": "stream",
     "text": [
      "(False or True) yields: True\n"
     ]
    }
   ],
   "source": [
    "print('(False or True) yields:', False or True)"
   ]
  },
  {
   "cell_type": "code",
   "execution_count": 8,
   "id": "717c5a2b-2cce-4a01-90c0-d9309fc51e3b",
   "metadata": {},
   "outputs": [
    {
     "name": "stdout",
     "output_type": "stream",
     "text": [
      "(False or False) yields: False\n"
     ]
    }
   ],
   "source": [
    "print('(False or False) yields:', False or False)"
   ]
  },
  {
   "cell_type": "code",
   "execution_count": 9,
   "id": "8ffd1d98-dcb4-42a7-a2aa-4358461b0c5d",
   "metadata": {},
   "outputs": [
    {
     "name": "stdout",
     "output_type": "stream",
     "text": [
      "(not True)yields: False\n"
     ]
    }
   ],
   "source": [
    "print('(not True)yields:', not True)"
   ]
  },
  {
   "cell_type": "code",
   "execution_count": 10,
   "id": "eb8c5b84-c11c-487b-b0bd-95ce68125c26",
   "metadata": {},
   "outputs": [
    {
     "name": "stdout",
     "output_type": "stream",
     "text": [
      "(not False) yields: True\n"
     ]
    }
   ],
   "source": [
    "print('(not False) yields:', not False)"
   ]
  },
  {
   "cell_type": "code",
   "execution_count": 11,
   "id": "7aef2283-81e0-47c3-91c6-bbb7c9727aeb",
   "metadata": {},
   "outputs": [
    {
     "name": "stdout",
     "output_type": "stream",
     "text": [
      "True\n"
     ]
    }
   ],
   "source": [
    "print(not False)"
   ]
  },
  {
   "cell_type": "code",
   "execution_count": null,
   "id": "9766b735-8d53-4bf2-a42b-0d9e7a786c92",
   "metadata": {},
   "outputs": [],
   "source": []
  },
  {
   "cell_type": "code",
   "execution_count": 25,
   "id": "f651242d-365c-4361-86b4-06fbcc87e052",
   "metadata": {},
   "outputs": [
    {
     "name": "stdout",
     "output_type": "stream",
     "text": [
      "19 is odd.\n"
     ]
    }
   ],
   "source": [
    "import random\n",
    "\n",
    "r = random.randrange(1, 100)\n",
    "\n",
    "if r % 2 == 0:\n",
    "    print(r, 'is even.')\n",
    "else:\n",
    "    print(r, 'is odd.')"
   ]
  },
  {
   "cell_type": "code",
   "execution_count": null,
   "id": "59b37902-17d8-4fa4-ad28-1fa8c1b02532",
   "metadata": {},
   "outputs": [],
   "source": []
  },
  {
   "cell_type": "code",
   "execution_count": 27,
   "id": "c5fbcc70-9b69-48c5-85b9-60009f64050c",
   "metadata": {},
   "outputs": [
    {
     "name": "stdout",
     "output_type": "stream",
     "text": [
      "1\n",
      "3\n",
      "5\n",
      "7\n",
      "9\n"
     ]
    }
   ],
   "source": [
    "for i in range(10):\n",
    "    if i % 2 != 0:\n",
    "        print(i)"
   ]
  },
  {
   "cell_type": "code",
   "execution_count": 30,
   "id": "45ead3f8-0dfe-42d6-8b2d-60c46e3b25a5",
   "metadata": {},
   "outputs": [
    {
     "name": "stdout",
     "output_type": "stream",
     "text": [
      "0\n",
      "2\n",
      "4\n",
      "6\n",
      "8\n"
     ]
    }
   ],
   "source": [
    "for i in range(10):\n",
    "    if i % 2 == 0:\n",
    "        print(i)"
   ]
  },
  {
   "cell_type": "code",
   "execution_count": null,
   "id": "642bf950-5da2-48aa-8494-97f06961eed3",
   "metadata": {},
   "outputs": [],
   "source": []
  },
  {
   "cell_type": "code",
   "execution_count": null,
   "id": "d9bc71ac-9756-4fb9-be33-7fa38f42a400",
   "metadata": {},
   "outputs": [],
   "source": []
  },
  {
   "cell_type": "code",
   "execution_count": null,
   "id": "65ddc093-324a-41bb-8766-c5428499de8e",
   "metadata": {},
   "outputs": [],
   "source": []
  },
  {
   "cell_type": "code",
   "execution_count": null,
   "id": "2f1eca06-4a77-4eac-b054-d93a47adfca8",
   "metadata": {},
   "outputs": [],
   "source": []
  },
  {
   "cell_type": "code",
   "execution_count": null,
   "id": "98a479eb-6018-420f-a131-e4cd202b01a5",
   "metadata": {},
   "outputs": [],
   "source": []
  },
  {
   "cell_type": "code",
   "execution_count": null,
   "id": "922f5d58-4b8a-41af-94bc-c50310c3080c",
   "metadata": {},
   "outputs": [],
   "source": []
  },
  {
   "cell_type": "code",
   "execution_count": null,
   "id": "6a6e708c-f509-427d-8179-b9a9f9cdd354",
   "metadata": {},
   "outputs": [],
   "source": []
  }
 ],
 "metadata": {
  "kernelspec": {
   "display_name": "Python 3 (ipykernel)",
   "language": "python",
   "name": "python3"
  },
  "language_info": {
   "codemirror_mode": {
    "name": "ipython",
    "version": 3
   },
   "file_extension": ".py",
   "mimetype": "text/x-python",
   "name": "python",
   "nbconvert_exporter": "python",
   "pygments_lexer": "ipython3",
   "version": "3.12.4"
  }
 },
 "nbformat": 4,
 "nbformat_minor": 5
}
